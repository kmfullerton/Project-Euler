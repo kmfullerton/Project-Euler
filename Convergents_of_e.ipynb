{
 "cells": [
  {
   "cell_type": "code",
   "execution_count": 19,
   "metadata": {},
   "outputs": [],
   "source": [
    "import math"
   ]
  },
  {
   "cell_type": "code",
   "execution_count": 22,
   "metadata": {},
   "outputs": [],
   "source": [
    "def find_convergent_seq(root, length):\n",
    "    num_list = [1, (root+1)]\n",
    "    denom_list = [1, root]\n",
    "    for i in range(2,length,1):\n",
    "        p = num_list[i-1]\n",
    "        q = denom_list[i-1]\n",
    "        new_num = p + (2*q)\n",
    "        new_denom = p + q\n",
    "        num_list.append(new_num)\n",
    "        denom_list.append(new_denom)\n",
    "    return num_list, denom_list"
   ]
  },
  {
   "cell_type": "code",
   "execution_count": 30,
   "metadata": {},
   "outputs": [
    {
     "name": "stdout",
     "output_type": "stream",
     "text": [
      "[1, 3, 7, 17, 41, 99, 239, 577, 1393, 3363]\n",
      "[1, 2, 5, 12, 29, 70, 169, 408, 985, 2378]\n"
     ]
    }
   ],
   "source": [
    "numerators, denominators = find_convergent_seq(2,10)\n",
    "print(numerators)\n",
    "print(denominators)"
   ]
  },
  {
   "cell_type": "code",
   "execution_count": 28,
   "metadata": {},
   "outputs": [
    {
     "name": "stdout",
     "output_type": "stream",
     "text": [
      "[1, 3.718281828459045, 9.154845485377136, 22.027972799213316, 53.21079108380377, 128.44955496682087, 310.1099010174455, 748.6693570017119, 1807.4486150208693, 4363.56658704345]\n",
      "[1, 2.718281828459045, 6.43656365691809, 15.591409142295227, 37.61938194150854, 90.83017302531232, 219.2797279921332, 529.3896290095787, 1278.0589860112905, 3085.50760103216]\n"
     ]
    }
   ],
   "source": [
    "numerators, denominators = find_convergent_seq(math.e, 10)\n",
    "print(numerators)\n",
    "# final_numerator = numerators[-1]\n",
    "# print(final_numerator)\n",
    "print(denominators)"
   ]
  },
  {
   "cell_type": "code",
   "execution_count": null,
   "metadata": {},
   "outputs": [],
   "source": []
  }
 ],
 "metadata": {
  "kernelspec": {
   "display_name": "Python 3",
   "language": "python",
   "name": "python3"
  },
  "language_info": {
   "codemirror_mode": {
    "name": "ipython",
    "version": 3
   },
   "file_extension": ".py",
   "mimetype": "text/x-python",
   "name": "python",
   "nbconvert_exporter": "python",
   "pygments_lexer": "ipython3",
   "version": "3.6.4"
  }
 },
 "nbformat": 4,
 "nbformat_minor": 2
}
