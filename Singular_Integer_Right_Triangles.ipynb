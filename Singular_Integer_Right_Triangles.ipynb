{
 "cells": [
  {
   "cell_type": "markdown",
   "metadata": {},
   "source": [
    "** Project Euler Problem 75**\n",
    "It turns out that 12 cm is the smallest length of wire that can be bent to form an integer sided right angle triangle in exactly one way, but there are many more examples.\n",
    "\n",
    "- 12 cm: (3,4,5)\n",
    "- 24 cm: (6,8,10)\n",
    "- 30 cm: (5,12,13)\n",
    "- 36 cm: (9,12,15)\n",
    "- 40 cm: (8,15,17)\n",
    "- 48 cm: (12,16,20)\n",
    "\n",
    "In contrast, some lengths of wire, like 20 cm, cannot be bent to form an integer sided right angle triangle, and other lengths allow more than one solution to be found; for example, using 120 cm it is possible to form exactly three different integer sided right angle triangles.\n",
    "\n",
    "120 cm: (30,40,50), (20,48,52), (24,45,51)\n",
    "\n",
    "Given that L is the length of the wire, for how many values of L ≤ 1,500,000 can exactly one integer sided right angle triangle be formed?"
   ]
  },
  {
   "cell_type": "markdown",
   "metadata": {},
   "source": [
    "** Assumptions **\n",
    "1. a + b + c = l\n",
    "2. $a^{2} + b^{2} = c^{2}$, i.e. the triangle conforms to the pythagorean theorem\n",
    "3. c > a & b\n",
    "4. a, b, and c are all integers"
   ]
  },
  {
   "cell_type": "code",
   "execution_count": 1,
   "metadata": {},
   "outputs": [],
   "source": [
    "import itertools\n",
    "from itertools import permutations\n",
    "import numpy as np\n",
    "import pandas as pd"
   ]
  },
  {
   "cell_type": "code",
   "execution_count": 34,
   "metadata": {},
   "outputs": [
    {
     "name": "stdout",
     "output_type": "stream",
     "text": [
      "[(1, 2, 4), (1, 2, 5), (1, 3, 2), (1, 3, 4), (1, 3, 5), (1, 4, 2), (1, 4, 3), (1, 4, 5), (1, 5, 2)]\n"
     ]
    }
   ],
   "source": [
    "# Generate 3 integer combinations that add to the total length\n",
    "combos_list = list()\n",
    "l = 5\n",
    "int_vec = list(range(1,l+1))\n",
    "combos = list(permutations(int_vec, 3))\n",
    "print(combos[1:10])"
   ]
  },
  {
   "cell_type": "code",
   "execution_count": 35,
   "metadata": {},
   "outputs": [],
   "source": [
    "def check_length(a,b,c,l):\n",
    "    # Function checks that a+b+c = l\n",
    "    if (a+b+c) == l:\n",
    "        return 1\n",
    "    else:\n",
    "        return 0"
   ]
  },
  {
   "cell_type": "code",
   "execution_count": 36,
   "metadata": {},
   "outputs": [],
   "source": [
    "def hypotenuse_match(a,b,c):\n",
    "    # Functions checks that the suggested hypotenuse is the same as the length of the calculated hypotenuse\n",
    "    c_calc = int(np.sqrt(a**2 + b**2))\n",
    "#     print('Calculated C:', c_calc)\n",
    "#     print('Proposed C:', c)\n",
    "    if (c_calc == c):\n",
    "        return 1\n",
    "    else:\n",
    "        return 0"
   ]
  },
  {
   "cell_type": "code",
   "execution_count": 37,
   "metadata": {},
   "outputs": [],
   "source": [
    "def check_hypotenuse(a,b,c):\n",
    "    # Function checks that the number for the hypotenuse (c) is larger than the side lenght (a & b)\n",
    "    if (c > a) & (c > b):\n",
    "        return 1\n",
    "    else:\n",
    "        return 0"
   ]
  },
  {
   "cell_type": "code",
   "execution_count": 59,
   "metadata": {},
   "outputs": [
    {
     "data": {
      "text/html": [
       "<div>\n",
       "<style scoped>\n",
       "    .dataframe tbody tr th:only-of-type {\n",
       "        vertical-align: middle;\n",
       "    }\n",
       "\n",
       "    .dataframe tbody tr th {\n",
       "        vertical-align: top;\n",
       "    }\n",
       "\n",
       "    .dataframe thead th {\n",
       "        text-align: right;\n",
       "    }\n",
       "</style>\n",
       "<table border=\"1\" class=\"dataframe\">\n",
       "  <thead>\n",
       "    <tr style=\"text-align: right;\">\n",
       "      <th></th>\n",
       "      <th>A</th>\n",
       "      <th>B</th>\n",
       "      <th>C</th>\n",
       "      <th>Assumption 1</th>\n",
       "      <th>Assumption 2</th>\n",
       "      <th>Assumption 3</th>\n",
       "    </tr>\n",
       "  </thead>\n",
       "  <tbody>\n",
       "    <tr>\n",
       "      <th>0</th>\n",
       "      <td>1</td>\n",
       "      <td>2</td>\n",
       "      <td>3</td>\n",
       "      <td>0.0</td>\n",
       "      <td>0.0</td>\n",
       "      <td>1.0</td>\n",
       "    </tr>\n",
       "    <tr>\n",
       "      <th>1</th>\n",
       "      <td>1</td>\n",
       "      <td>2</td>\n",
       "      <td>4</td>\n",
       "      <td>0.0</td>\n",
       "      <td>0.0</td>\n",
       "      <td>1.0</td>\n",
       "    </tr>\n",
       "    <tr>\n",
       "      <th>2</th>\n",
       "      <td>1</td>\n",
       "      <td>2</td>\n",
       "      <td>5</td>\n",
       "      <td>0.0</td>\n",
       "      <td>0.0</td>\n",
       "      <td>1.0</td>\n",
       "    </tr>\n",
       "    <tr>\n",
       "      <th>3</th>\n",
       "      <td>1</td>\n",
       "      <td>3</td>\n",
       "      <td>2</td>\n",
       "      <td>0.0</td>\n",
       "      <td>0.0</td>\n",
       "      <td>0.0</td>\n",
       "    </tr>\n",
       "    <tr>\n",
       "      <th>4</th>\n",
       "      <td>1</td>\n",
       "      <td>3</td>\n",
       "      <td>4</td>\n",
       "      <td>0.0</td>\n",
       "      <td>0.0</td>\n",
       "      <td>1.0</td>\n",
       "    </tr>\n",
       "  </tbody>\n",
       "</table>\n",
       "</div>"
      ],
      "text/plain": [
       "   A  B  C  Assumption 1  Assumption 2  Assumption 3\n",
       "0  1  2  3           0.0           0.0           1.0\n",
       "1  1  2  4           0.0           0.0           1.0\n",
       "2  1  2  5           0.0           0.0           1.0\n",
       "3  1  3  2           0.0           0.0           0.0\n",
       "4  1  3  4           0.0           0.0           1.0"
      ]
     },
     "execution_count": 59,
     "metadata": {},
     "output_type": "execute_result"
    }
   ],
   "source": [
    "validity = pd.DataFrame(data = combos, columns=['A', 'B', 'C'])\n",
    "validity['Assumption 1']=np.nan\n",
    "validity['Assumption 2']=np.nan\n",
    "validity['Assumption 3']=np.nan\n",
    "\n",
    "\n",
    "for index, row in validity.iterrows():\n",
    "#     print('index:', index)\n",
    "    a = row[0]\n",
    "    b = row[1]\n",
    "    c = row[2]\n",
    "    validity.iloc[index, 3] = check_length(a,b,c,l)\n",
    "    validity.iloc[index, 4] = hypotenuse_match(a,b,c)\n",
    "    validity.iloc[index, 5] = check_hypotenuse(a,b,c)\n",
    "    \n",
    "validity.head()"
   ]
  },
  {
   "cell_type": "code",
   "execution_count": null,
   "metadata": {},
   "outputs": [],
   "source": []
  }
 ],
 "metadata": {
  "kernelspec": {
   "display_name": "Python 3",
   "language": "python",
   "name": "python3"
  },
  "language_info": {
   "codemirror_mode": {
    "name": "ipython",
    "version": 3
   },
   "file_extension": ".py",
   "mimetype": "text/x-python",
   "name": "python",
   "nbconvert_exporter": "python",
   "pygments_lexer": "ipython3",
   "version": "3.6.4"
  }
 },
 "nbformat": 4,
 "nbformat_minor": 2
}
